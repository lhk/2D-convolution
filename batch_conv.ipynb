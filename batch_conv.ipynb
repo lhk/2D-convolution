{
 "cells": [
  {
   "cell_type": "code",
   "execution_count": 1,
   "metadata": {
    "collapsed": true,
    "deletable": true,
    "editable": true
   },
   "outputs": [],
   "source": [
    "import numpy as np"
   ]
  },
  {
   "cell_type": "markdown",
   "metadata": {},
   "source": [
    "### Setting up the data\n",
    "\n",
    "The image is in the format: batch_size, width, height, colors\n",
    "\n",
    "The filter is: width, height, in_colors, out_colors"
   ]
  },
  {
   "cell_type": "code",
   "execution_count": 2,
   "metadata": {
    "collapsed": false,
    "deletable": true,
    "editable": true
   },
   "outputs": [],
   "source": [
    "# dimensions of the image\n",
    "batch_size, dim_x, dim_y, colors=2, 10, 11, 5\n",
    "\n",
    "# dimensions of the filter\n",
    "kernel_x, kernel_y, in_colors, out_colors=2, 3, colors, 4"
   ]
  },
  {
   "cell_type": "code",
   "execution_count": 3,
   "metadata": {
    "collapsed": false,
    "deletable": true,
    "editable": true
   },
   "outputs": [],
   "source": [
    "# using random numbers to fill the image and the weights\n",
    "im=np.random.rand(batch_size, dim_x, dim_y, colors)\n",
    "weights=np.random.rand(kernel_x, kernel_y, in_colors, out_colors)"
   ]
  },
  {
   "cell_type": "markdown",
   "metadata": {},
   "source": [
    "### Defining a convolution operation"
   ]
  },
  {
   "cell_type": "code",
   "execution_count": 4,
   "metadata": {
    "collapsed": true,
    "deletable": true,
    "editable": true
   },
   "outputs": [],
   "source": [
    "def convolve(im, weights):\n",
    "    \n",
    "    # get the dimensions of image and kernel\n",
    "    kernel_x, kernel_y, in_colors, out_colors=weights.shape\n",
    "    batch_size, dim_x, dim_y, colors=im.shape\n",
    "    \n",
    "    # allocate an output array\n",
    "    # the batch_size stays the same, the number of colors is specified in the shape of the filter\n",
    "    # but the x and y dimensions of the output need to be calculated\n",
    "    # the formula is:\n",
    "    # out_x = in_x - filter_x +1\n",
    "    out=np.empty((batch_size, dim_x-kernel_x+1, dim_y-kernel_y+1, out_colors))\n",
    "    \n",
    "    # look at every coordinate in the output\n",
    "    for i in range(out.shape[1]):\n",
    "        for j in range(out.shape[2]):\n",
    "            \n",
    "            # at this location, slice a rectangle out of the input image\n",
    "            # the batch_size and the colors are retained\n",
    "            # crop has the shape: batch_size, kernel_x, kernel_y, in_colors\n",
    "            crop=im[:,i:i+kernel_x, j:j+kernel_y]\n",
    "            \n",
    "            # the values in crop will be multiplied by the weights\n",
    "            # look how the shapes match:\n",
    "            # crop:   batch_size, x, y, in_colors\n",
    "            # weights:            x, y, in_colors, out_colors\n",
    "            \n",
    "            # numpy can broadcast this, but ONLY if an extra dimension is added to crop\n",
    "            # crop now has the shape: batch_size, x, y, in_colors, 1\n",
    "            crop=np.expand_dims(crop, axis=-1)\n",
    "            \n",
    "            # numpy broadcast magic\n",
    "            # in parallel along the batch_size\n",
    "            # matches the x, y and in_colors dimensions and multiplies them pairwise\n",
    "            res=crop*weights\n",
    "            \n",
    "            # res has the shape: batch_size, x, y, in_colors, out_colors\n",
    "            # we want to sum along x, y, and in_colors\n",
    "            # those are the dimensions 1, 2, 3\n",
    "            # we want to keep the batch_size and the out_colors\n",
    "            res=np.apply_over_axes(np.sum, res, [1,2,3]).reshape(batch_size,-1)\n",
    "            \n",
    "            out[:,i,j]=res\n",
    "            \n",
    "    return out"
   ]
  },
  {
   "cell_type": "markdown",
   "metadata": {},
   "source": [
    "### Apply\n",
    "\n",
    "Use the new convolve function to compute the output of the convolution.\n",
    "Calculate an output value which will be used to test the backward pass later on."
   ]
  },
  {
   "cell_type": "code",
   "execution_count": 5,
   "metadata": {
    "collapsed": false,
    "deletable": true,
    "editable": true
   },
   "outputs": [],
   "source": [
    "out=convolve(im, weights)"
   ]
  },
  {
   "cell_type": "code",
   "execution_count": 6,
   "metadata": {
    "collapsed": false,
    "deletable": true,
    "editable": true
   },
   "outputs": [],
   "source": [
    "# set up a random weight for every entry in the output\n",
    "debug_weights=np.random.rand(*out.shape)\n",
    "\n",
    "# multiply the output with the random weights, reduce it by summing everything\n",
    "# This scalar output value depends on every entry in the output\n",
    "# If you change an entry, the output value will change with the random weight\n",
    "# therefore, it is possible to identify which value in the output has changed\n",
    "debug_out=np.sum(out*debug_weights)"
   ]
  },
  {
   "cell_type": "code",
   "execution_count": 7,
   "metadata": {
    "collapsed": false,
    "deletable": true,
    "editable": true
   },
   "outputs": [
    {
     "data": {
      "text/plain": [
       "2472.7945262736876"
      ]
     },
     "execution_count": 7,
     "metadata": {},
     "output_type": "execute_result"
    }
   ],
   "source": [
    "debug_out"
   ]
  },
  {
   "cell_type": "markdown",
   "metadata": {},
   "source": [
    "### Backward pass\n",
    "\n",
    "The backward pass is a convolution with weights that are:\n",
    "1. mirrored along the x axis\n",
    "2. mirrored along the y axis\n",
    "3. transposed: in_colors and out_colors are switched\n",
    "\n",
    "This convolution has to be performed in a padded output.\n",
    "The gradients (output of this convolution) need to match the shape of the input.\n",
    "By applying the convolution, the x and y dimensions are reduced by (kernel_x-1) and (kernel_y-1) respectively.\n",
    "\n",
    "Before applying the convolution for the backward pass, the output will be padded with 2(kernel_x-1)."
   ]
  },
  {
   "cell_type": "code",
   "execution_count": 8,
   "metadata": {
    "collapsed": false,
    "deletable": true,
    "editable": true
   },
   "outputs": [],
   "source": [
    "out_shape=out.shape\n",
    "\n",
    "# set up an array for the padded output\n",
    "padded=np.zeros((batch_size, out_shape[1]+2*(kernel_x-1), out_shape[2]+2*(kernel_y-1), out_colors))\n",
    "\n",
    "# copy the output to its center\n",
    "padded[:, kernel_x-1:kernel_x-1+out_shape[1], kernel_y-1:kernel_y-1+out_shape[2]]=debug_weights"
   ]
  },
  {
   "cell_type": "code",
   "execution_count": 15,
   "metadata": {
    "collapsed": false,
    "deletable": true,
    "editable": true
   },
   "outputs": [
    {
     "data": {
      "text/plain": [
       "<matplotlib.image.AxesImage at 0x7f19ebbb7780>"
      ]
     },
     "execution_count": 15,
     "metadata": {},
     "output_type": "execute_result"
    },
    {
     "data": {
      "image/png": "[encoded data removed]",
      "text/plain": [
       "<matplotlib.figure.Figure at 0x7f19c33470b8>"
      ]
     },
     "metadata": {},
     "output_type": "display_data"
    }
   ],
   "source": [
    "# plotting the padded output.\n",
    "\n",
    "import matplotlib.pyplot as plt\n",
    "%matplotlib inline\n",
    "\n",
    "plt.imshow((padded[0]>0).sum(axis=-1))"
   ]
  },
  {
   "cell_type": "code",
   "execution_count": 11,
   "metadata": {
    "collapsed": true,
    "deletable": true,
    "editable": true
   },
   "outputs": [],
   "source": [
    "# the weights for the backward pass have to be adap\n",
    "backward_weights=weights[::-1,::-1].transpose((0,1,3,2))"
   ]
  },
  {
   "cell_type": "code",
   "execution_count": 12,
   "metadata": {
    "collapsed": false,
    "deletable": true,
    "editable": true
   },
   "outputs": [],
   "source": [
    "grads=convolve(padded, backward_weights)"
   ]
  },
  {
   "cell_type": "code",
   "execution_count": 13,
   "metadata": {
    "collapsed": false,
    "deletable": true,
    "editable": true
   },
   "outputs": [
    {
     "data": {
      "text/plain": [
       "(2, 10, 11, 5)"
      ]
     },
     "execution_count": 13,
     "metadata": {},
     "output_type": "execute_result"
    }
   ],
   "source": [
    "grads.shape"
   ]
  },
  {
   "cell_type": "code",
   "execution_count": 14,
   "metadata": {
    "collapsed": false,
    "deletable": true,
    "editable": true
   },
   "outputs": [],
   "source": [
    "eps=1e-4\n",
    "tol=1e-8\n",
    "\n",
    "for idx in np.ndindex(im.shape):\n",
    "    \n",
    "    d_im=im.copy()\n",
    "    d_im[idx]+=eps\n",
    "    d_out=convolve(d_im, weights)\n",
    "    d_debug_out=np.sum(d_out*debug_weights)\n",
    "\n",
    "    grad=(d_debug_out-debug_out)/eps\n",
    "    \n",
    "    assert np.abs(grad-grads[idx])<tol, idx"
   ]
  },
  {
   "cell_type": "code",
   "execution_count": null,
   "metadata": {
    "collapsed": true
   },
   "outputs": [],
   "source": []
  }
 ],
 "metadata": {
  "kernelspec": {
   "display_name": "Python 3",
   "language": "python",
   "name": "python3"
  },
  "language_info": {
   "codemirror_mode": {
    "name": "ipython",
    "version": 3
   },
   "file_extension": ".py",
   "mimetype": "text/x-python",
   "name": "python",
   "nbconvert_exporter": "python",
   "pygments_lexer": "ipython3",
   "version": "3.5.2"
  }
 },
 "nbformat": 4,
 "nbformat_minor": 2
}
